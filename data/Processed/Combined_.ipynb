{
 "cells": [
  {
   "cell_type": "code",
   "execution_count": 1,
   "metadata": {},
   "outputs": [],
   "source": [
    "import pandas as pd"
   ]
  },
  {
   "cell_type": "code",
   "execution_count": 14,
   "metadata": {},
   "outputs": [],
   "source": [
    "df1 = pd.read_csv('merged_file.csv')\n",
    "df2 = pd.read_csv('zone_temp_exterior.csv')\n",
    "# df3 = pd.read_csv('rtu_sa_t.csv')\n",
    "# df4 = pd.read_csv('rtu_ra_t.csv')\n",
    "# df5 = pd.read_csv('rtu_ma_t.csv')\n",
    "# df6 = pd.read_csv('rtu_oa_t.csv')\n",
    "# df7 = pd.read_csv('rtu_sa_fr.csv')\n",
    "# df8 = pd.read_csv('rtu_oa_damper.csv')\n",
    "# df9 = pd.read_csv('rtu_econ_sp.csv')\n",
    "# df10 = pd.read_csv('rtu_sa_p_sp.csv')\n",
    "# df11 = pd.read_csv('rtu_plenum_p.csv')\n",
    "# df12 = pd.read_csv('rtu_fan_spd.csv')"
   ]
  },
  {
   "cell_type": "code",
   "execution_count": 15,
   "metadata": {},
   "outputs": [],
   "source": [
    "df1['date'] = pd.to_datetime(df1['date'])\n",
    "df2['date'] = pd.to_datetime(df2['date'])\n",
    "# df3['date'] = pd.to_datetime(df3['date'])\n",
    "# df4['date'] = pd.to_datetime(df4['date'])\n",
    "# df5['date'] = pd.to_datetime(df5['date'])\n",
    "# df6['date'] = pd.to_datetime(df6['date'])\n",
    "# df7['date'] = pd.to_datetime(df7['date'])\n",
    "# df8['date'] = pd.to_datetime(df8['date'])\n",
    "# df9['date'] = pd.to_datetime(df9['date'])\n",
    "# df10['date'] = pd.to_datetime(df10['date'])\n",
    "# df11['date'] = pd.to_datetime(df11['date'])\n",
    "# df12['date'] = pd.to_datetime(df12['date'])"
   ]
  },
  {
   "cell_type": "code",
   "execution_count": 16,
   "metadata": {},
   "outputs": [],
   "source": [
    "common_column = 'date'"
   ]
  },
  {
   "cell_type": "code",
   "execution_count": 17,
   "metadata": {},
   "outputs": [],
   "source": [
    "# Merge df1 and df2 first\n",
    "merged_df = pd.merge(df1, df2, on=common_column, how='inner')\n",
    "\n",
    "# # Then merge the result with df3, and so on\n",
    "# merged_df = pd.merge(merged_df, df3, on=common_column, how='inner')\n",
    "# merged_df = pd.merge(merged_df, df4, on=common_column, how='inner')\n",
    "# merged_df = pd.merge(merged_df, df5, on=common_column, how='inner')\n",
    "# merged_df = pd.merge(merged_df, df6, on=common_column, how='inner')\n",
    "# merged_df = pd.merge(merged_df, df7, on=common_column, how='inner')\n",
    "# merged_df = pd.merge(merged_df, df8, on=common_column, how='inner')\n",
    "# merged_df = pd.merge(merged_df, df9, on=common_column, how='inner')\n",
    "# merged_df = pd.merge(merged_df, df10, on=common_column, how='inner')\n",
    "# merged_df = pd.merge(merged_df, df11, on=common_column, how='inner')\n",
    "# merged_df = pd.merge(merged_df, df12, on=common_column, how='inner')\n"
   ]
  },
  {
   "cell_type": "code",
   "execution_count": 18,
   "metadata": {},
   "outputs": [],
   "source": [
    "merged_df.to_csv('merged_file.csv', index=False)"
   ]
  },
  {
   "cell_type": "code",
   "execution_count": 19,
   "metadata": {},
   "outputs": [
    {
     "name": "stdout",
     "output_type": "stream",
     "text": [
      "                 date  hp_hws_temp  rtu_001_sat_sp_tn  rtu_002_sat_sp_tn  \\\n",
      "0 2018-01-01 01:00:00         75.4               68.0               70.0   \n",
      "1 2018-01-01 01:15:00         75.4               68.0               70.0   \n",
      "2 2018-01-01 01:30:00         75.3               68.0               70.0   \n",
      "3 2018-01-01 01:45:00         75.3               68.0               70.0   \n",
      "4 2018-01-01 02:00:00         75.3               68.0               70.0   \n",
      "\n",
      "   rtu_003_sat_sp_tn  rtu_004_sat_sp_tn  rtu_001_sa_temp  rtu_002_sa_temp  \\\n",
      "0               65.0               69.0             67.2             68.3   \n",
      "1               65.0               69.0             66.9             68.0   \n",
      "2               65.0               69.0             67.9             68.7   \n",
      "3               65.0               69.0             67.9             68.2   \n",
      "4               65.0               69.0             67.9             68.0   \n",
      "\n",
      "   rtu_003_sa_temp  rtu_004_sa_temp  ...  zone_063_temp  zone_064_temp  \\\n",
      "0             64.9             65.9  ...           71.0           71.2   \n",
      "1             64.9             65.6  ...           71.0           71.2   \n",
      "2             65.0             65.4  ...           71.0           71.2   \n",
      "3             65.3             65.4  ...           71.0           71.2   \n",
      "4             64.9             65.4  ...           71.0           71.2   \n",
      "\n",
      "   zone_065_temp  zone_066_temp  zone_067_temp  zone_068_temp  zone_069_temp  \\\n",
      "0           69.3           69.8           70.0           71.7           70.4   \n",
      "1           69.2           69.8           70.0           71.4           70.3   \n",
      "2           69.2           69.8           69.9           71.2           70.3   \n",
      "3           69.2           69.8           69.8           71.2           70.2   \n",
      "4           69.2           69.7           69.8           71.2           70.2   \n",
      "\n",
      "   zone_070_temp  zone_071_temp  zone_072_temp  \n",
      "0           69.7           69.9           71.0  \n",
      "1           69.7           69.8           71.0  \n",
      "2           69.6           69.8           71.0  \n",
      "3           69.6           69.7           71.0  \n",
      "4           69.6           69.7           71.0  \n",
      "\n",
      "[5 rows x 116 columns]\n"
     ]
    }
   ],
   "source": [
    "print(merged_df.head())"
   ]
  },
  {
   "cell_type": "markdown",
   "metadata": {},
   "source": []
  },
  {
   "cell_type": "code",
   "execution_count": null,
   "metadata": {},
   "outputs": [],
   "source": []
  }
 ],
 "metadata": {
  "kernelspec": {
   "display_name": "Python 3",
   "language": "python",
   "name": "python3"
  },
  "language_info": {
   "codemirror_mode": {
    "name": "ipython",
    "version": 3
   },
   "file_extension": ".py",
   "mimetype": "text/x-python",
   "name": "python",
   "nbconvert_exporter": "python",
   "pygments_lexer": "ipython3",
   "version": "3.10.11"
  },
  "orig_nbformat": 4
 },
 "nbformat": 4,
 "nbformat_minor": 2
}
