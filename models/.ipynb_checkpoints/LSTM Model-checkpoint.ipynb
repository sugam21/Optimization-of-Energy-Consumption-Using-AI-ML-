{
 "cells": [
  {
   "cell_type": "code",
   "execution_count": 1,
   "metadata": {},
   "outputs": [
    {
     "name": "stdout",
     "output_type": "stream",
     "text": [
      "Requirement already satisfied: numpy in c:\\users\\apurva\\appdata\\local\\packages\\pythonsoftwarefoundation.python.3.10_qbz5n2kfra8p0\\localcache\\local-packages\\python310\\site-packages (1.24.2)\n",
      "Requirement already satisfied: pandas in c:\\users\\apurva\\appdata\\local\\packages\\pythonsoftwarefoundation.python.3.10_qbz5n2kfra8p0\\localcache\\local-packages\\python310\\site-packages (1.5.3)\n",
      "Requirement already satisfied: scikit-learn in c:\\users\\apurva\\appdata\\local\\packages\\pythonsoftwarefoundation.python.3.10_qbz5n2kfra8p0\\localcache\\local-packages\\python310\\site-packages (1.2.2)\n",
      "Requirement already satisfied: xgboost in c:\\users\\apurva\\appdata\\local\\packages\\pythonsoftwarefoundation.python.3.10_qbz5n2kfra8p0\\localcache\\local-packages\\python310\\site-packages (2.0.0)\n",
      "Requirement already satisfied: tensorflow in c:\\users\\apurva\\appdata\\local\\packages\\pythonsoftwarefoundation.python.3.10_qbz5n2kfra8p0\\localcache\\local-packages\\python310\\site-packages (2.14.0)\n",
      "Requirement already satisfied: lightgbm in c:\\users\\apurva\\appdata\\local\\packages\\pythonsoftwarefoundation.python.3.10_qbz5n2kfra8p0\\localcache\\local-packages\\python310\\site-packages (4.1.0)\n",
      "Requirement already satisfied: python-dateutil>=2.8.1 in c:\\users\\apurva\\appdata\\local\\packages\\pythonsoftwarefoundation.python.3.10_qbz5n2kfra8p0\\localcache\\local-packages\\python310\\site-packages (from pandas) (2.8.2)\n",
      "Requirement already satisfied: pytz>=2020.1 in c:\\users\\apurva\\appdata\\local\\packages\\pythonsoftwarefoundation.python.3.10_qbz5n2kfra8p0\\localcache\\local-packages\\python310\\site-packages (from pandas) (2023.2)\n",
      "Requirement already satisfied: scipy>=1.3.2 in c:\\users\\apurva\\appdata\\local\\packages\\pythonsoftwarefoundation.python.3.10_qbz5n2kfra8p0\\localcache\\local-packages\\python310\\site-packages (from scikit-learn) (1.10.1)\n",
      "Requirement already satisfied: joblib>=1.1.1 in c:\\users\\apurva\\appdata\\local\\packages\\pythonsoftwarefoundation.python.3.10_qbz5n2kfra8p0\\localcache\\local-packages\\python310\\site-packages (from scikit-learn) (1.2.0)\n",
      "Requirement already satisfied: threadpoolctl>=2.0.0 in c:\\users\\apurva\\appdata\\local\\packages\\pythonsoftwarefoundation.python.3.10_qbz5n2kfra8p0\\localcache\\local-packages\\python310\\site-packages (from scikit-learn) (3.1.0)\n",
      "Requirement already satisfied: tensorflow-intel==2.14.0 in c:\\users\\apurva\\appdata\\local\\packages\\pythonsoftwarefoundation.python.3.10_qbz5n2kfra8p0\\localcache\\local-packages\\python310\\site-packages (from tensorflow) (2.14.0)\n",
      "Requirement already satisfied: absl-py>=1.0.0 in c:\\users\\apurva\\appdata\\local\\packages\\pythonsoftwarefoundation.python.3.10_qbz5n2kfra8p0\\localcache\\local-packages\\python310\\site-packages (from tensorflow-intel==2.14.0->tensorflow) (2.0.0)\n",
      "Requirement already satisfied: astunparse>=1.6.0 in c:\\users\\apurva\\appdata\\local\\packages\\pythonsoftwarefoundation.python.3.10_qbz5n2kfra8p0\\localcache\\local-packages\\python310\\site-packages (from tensorflow-intel==2.14.0->tensorflow) (1.6.3)\n",
      "Requirement already satisfied: flatbuffers>=23.5.26 in c:\\users\\apurva\\appdata\\local\\packages\\pythonsoftwarefoundation.python.3.10_qbz5n2kfra8p0\\localcache\\local-packages\\python310\\site-packages (from tensorflow-intel==2.14.0->tensorflow) (23.5.26)\n",
      "Requirement already satisfied: gast!=0.5.0,!=0.5.1,!=0.5.2,>=0.2.1 in c:\\users\\apurva\\appdata\\local\\packages\\pythonsoftwarefoundation.python.3.10_qbz5n2kfra8p0\\localcache\\local-packages\\python310\\site-packages (from tensorflow-intel==2.14.0->tensorflow) (0.5.4)\n",
      "Requirement already satisfied: google-pasta>=0.1.1 in c:\\users\\apurva\\appdata\\local\\packages\\pythonsoftwarefoundation.python.3.10_qbz5n2kfra8p0\\localcache\\local-packages\\python310\\site-packages (from tensorflow-intel==2.14.0->tensorflow) (0.2.0)\n",
      "Requirement already satisfied: h5py>=2.9.0 in c:\\users\\apurva\\appdata\\local\\packages\\pythonsoftwarefoundation.python.3.10_qbz5n2kfra8p0\\localcache\\local-packages\\python310\\site-packages (from tensorflow-intel==2.14.0->tensorflow) (3.10.0)\n",
      "Requirement already satisfied: libclang>=13.0.0 in c:\\users\\apurva\\appdata\\local\\packages\\pythonsoftwarefoundation.python.3.10_qbz5n2kfra8p0\\localcache\\local-packages\\python310\\site-packages (from tensorflow-intel==2.14.0->tensorflow) (16.0.6)\n",
      "Requirement already satisfied: ml-dtypes==0.2.0 in c:\\users\\apurva\\appdata\\local\\packages\\pythonsoftwarefoundation.python.3.10_qbz5n2kfra8p0\\localcache\\local-packages\\python310\\site-packages (from tensorflow-intel==2.14.0->tensorflow) (0.2.0)\n",
      "Requirement already satisfied: opt-einsum>=2.3.2 in c:\\users\\apurva\\appdata\\local\\packages\\pythonsoftwarefoundation.python.3.10_qbz5n2kfra8p0\\localcache\\local-packages\\python310\\site-packages (from tensorflow-intel==2.14.0->tensorflow) (3.3.0)\n",
      "Requirement already satisfied: packaging in c:\\users\\apurva\\appdata\\local\\packages\\pythonsoftwarefoundation.python.3.10_qbz5n2kfra8p0\\localcache\\local-packages\\python310\\site-packages (from tensorflow-intel==2.14.0->tensorflow) (23.0)\n",
      "Requirement already satisfied: protobuf!=4.21.0,!=4.21.1,!=4.21.2,!=4.21.3,!=4.21.4,!=4.21.5,<5.0.0dev,>=3.20.3 in c:\\users\\apurva\\appdata\\local\\packages\\pythonsoftwarefoundation.python.3.10_qbz5n2kfra8p0\\localcache\\local-packages\\python310\\site-packages (from tensorflow-intel==2.14.0->tensorflow) (3.20.3)\n",
      "Requirement already satisfied: setuptools in c:\\program files\\windowsapps\\pythonsoftwarefoundation.python.3.10_3.10.3056.0_x64__qbz5n2kfra8p0\\lib\\site-packages (from tensorflow-intel==2.14.0->tensorflow) (65.5.0)\n",
      "Requirement already satisfied: six>=1.12.0 in c:\\users\\apurva\\appdata\\local\\packages\\pythonsoftwarefoundation.python.3.10_qbz5n2kfra8p0\\localcache\\local-packages\\python310\\site-packages (from tensorflow-intel==2.14.0->tensorflow) (1.16.0)\n",
      "Requirement already satisfied: termcolor>=1.1.0 in c:\\users\\apurva\\appdata\\local\\packages\\pythonsoftwarefoundation.python.3.10_qbz5n2kfra8p0\\localcache\\local-packages\\python310\\site-packages (from tensorflow-intel==2.14.0->tensorflow) (2.3.0)\n",
      "Requirement already satisfied: typing-extensions>=3.6.6 in c:\\users\\apurva\\appdata\\local\\packages\\pythonsoftwarefoundation.python.3.10_qbz5n2kfra8p0\\localcache\\local-packages\\python310\\site-packages (from tensorflow-intel==2.14.0->tensorflow) (4.5.0)\n",
      "Requirement already satisfied: wrapt<1.15,>=1.11.0 in c:\\users\\apurva\\appdata\\local\\packages\\pythonsoftwarefoundation.python.3.10_qbz5n2kfra8p0\\localcache\\local-packages\\python310\\site-packages (from tensorflow-intel==2.14.0->tensorflow) (1.14.1)\n",
      "Requirement already satisfied: tensorflow-io-gcs-filesystem>=0.23.1 in c:\\users\\apurva\\appdata\\local\\packages\\pythonsoftwarefoundation.python.3.10_qbz5n2kfra8p0\\localcache\\local-packages\\python310\\site-packages (from tensorflow-intel==2.14.0->tensorflow) (0.31.0)\n",
      "Requirement already satisfied: grpcio<2.0,>=1.24.3 in c:\\users\\apurva\\appdata\\local\\packages\\pythonsoftwarefoundation.python.3.10_qbz5n2kfra8p0\\localcache\\local-packages\\python310\\site-packages (from tensorflow-intel==2.14.0->tensorflow) (1.59.0)\n",
      "Requirement already satisfied: tensorboard<2.15,>=2.14 in c:\\users\\apurva\\appdata\\local\\packages\\pythonsoftwarefoundation.python.3.10_qbz5n2kfra8p0\\localcache\\local-packages\\python310\\site-packages (from tensorflow-intel==2.14.0->tensorflow) (2.14.1)\n",
      "Requirement already satisfied: tensorflow-estimator<2.15,>=2.14.0 in c:\\users\\apurva\\appdata\\local\\packages\\pythonsoftwarefoundation.python.3.10_qbz5n2kfra8p0\\localcache\\local-packages\\python310\\site-packages (from tensorflow-intel==2.14.0->tensorflow) (2.14.0)\n",
      "Requirement already satisfied: keras<2.15,>=2.14.0 in c:\\users\\apurva\\appdata\\local\\packages\\pythonsoftwarefoundation.python.3.10_qbz5n2kfra8p0\\localcache\\local-packages\\python310\\site-packages (from tensorflow-intel==2.14.0->tensorflow) (2.14.0)\n",
      "Requirement already satisfied: wheel<1.0,>=0.23.0 in c:\\users\\apurva\\appdata\\local\\packages\\pythonsoftwarefoundation.python.3.10_qbz5n2kfra8p0\\localcache\\local-packages\\python310\\site-packages (from astunparse>=1.6.0->tensorflow-intel==2.14.0->tensorflow) (0.41.2)\n",
      "Requirement already satisfied: google-auth<3,>=1.6.3 in c:\\users\\apurva\\appdata\\local\\packages\\pythonsoftwarefoundation.python.3.10_qbz5n2kfra8p0\\localcache\\local-packages\\python310\\site-packages (from tensorboard<2.15,>=2.14->tensorflow-intel==2.14.0->tensorflow) (2.23.3)\n",
      "Requirement already satisfied: google-auth-oauthlib<1.1,>=0.5 in c:\\users\\apurva\\appdata\\local\\packages\\pythonsoftwarefoundation.python.3.10_qbz5n2kfra8p0\\localcache\\local-packages\\python310\\site-packages (from tensorboard<2.15,>=2.14->tensorflow-intel==2.14.0->tensorflow) (1.0.0)\n",
      "Requirement already satisfied: markdown>=2.6.8 in c:\\users\\apurva\\appdata\\local\\packages\\pythonsoftwarefoundation.python.3.10_qbz5n2kfra8p0\\localcache\\local-packages\\python310\\site-packages (from tensorboard<2.15,>=2.14->tensorflow-intel==2.14.0->tensorflow) (3.5)\n",
      "Requirement already satisfied: requests<3,>=2.21.0 in c:\\users\\apurva\\appdata\\local\\packages\\pythonsoftwarefoundation.python.3.10_qbz5n2kfra8p0\\localcache\\local-packages\\python310\\site-packages (from tensorboard<2.15,>=2.14->tensorflow-intel==2.14.0->tensorflow) (2.29.0)\n",
      "Requirement already satisfied: tensorboard-data-server<0.8.0,>=0.7.0 in c:\\users\\apurva\\appdata\\local\\packages\\pythonsoftwarefoundation.python.3.10_qbz5n2kfra8p0\\localcache\\local-packages\\python310\\site-packages (from tensorboard<2.15,>=2.14->tensorflow-intel==2.14.0->tensorflow) (0.7.1)\n",
      "Requirement already satisfied: werkzeug>=1.0.1 in c:\\users\\apurva\\appdata\\local\\packages\\pythonsoftwarefoundation.python.3.10_qbz5n2kfra8p0\\localcache\\local-packages\\python310\\site-packages (from tensorboard<2.15,>=2.14->tensorflow-intel==2.14.0->tensorflow) (3.0.0)\n",
      "Requirement already satisfied: cachetools<6.0,>=2.0.0 in c:\\users\\apurva\\appdata\\local\\packages\\pythonsoftwarefoundation.python.3.10_qbz5n2kfra8p0\\localcache\\local-packages\\python310\\site-packages (from google-auth<3,>=1.6.3->tensorboard<2.15,>=2.14->tensorflow-intel==2.14.0->tensorflow) (5.3.0)\n",
      "Requirement already satisfied: pyasn1-modules>=0.2.1 in c:\\users\\apurva\\appdata\\local\\packages\\pythonsoftwarefoundation.python.3.10_qbz5n2kfra8p0\\localcache\\local-packages\\python310\\site-packages (from google-auth<3,>=1.6.3->tensorboard<2.15,>=2.14->tensorflow-intel==2.14.0->tensorflow) (0.3.0)\n",
      "Requirement already satisfied: rsa<5,>=3.1.4 in c:\\users\\apurva\\appdata\\local\\packages\\pythonsoftwarefoundation.python.3.10_qbz5n2kfra8p0\\localcache\\local-packages\\python310\\site-packages (from google-auth<3,>=1.6.3->tensorboard<2.15,>=2.14->tensorflow-intel==2.14.0->tensorflow) (4.9)\n",
      "Requirement already satisfied: requests-oauthlib>=0.7.0 in c:\\users\\apurva\\appdata\\local\\packages\\pythonsoftwarefoundation.python.3.10_qbz5n2kfra8p0\\localcache\\local-packages\\python310\\site-packages (from google-auth-oauthlib<1.1,>=0.5->tensorboard<2.15,>=2.14->tensorflow-intel==2.14.0->tensorflow) (1.3.1)\n",
      "Requirement already satisfied: charset-normalizer<4,>=2 in c:\\users\\apurva\\appdata\\local\\packages\\pythonsoftwarefoundation.python.3.10_qbz5n2kfra8p0\\localcache\\local-packages\\python310\\site-packages (from requests<3,>=2.21.0->tensorboard<2.15,>=2.14->tensorflow-intel==2.14.0->tensorflow) (3.1.0)\n",
      "Requirement already satisfied: idna<4,>=2.5 in c:\\users\\apurva\\appdata\\local\\packages\\pythonsoftwarefoundation.python.3.10_qbz5n2kfra8p0\\localcache\\local-packages\\python310\\site-packages (from requests<3,>=2.21.0->tensorboard<2.15,>=2.14->tensorflow-intel==2.14.0->tensorflow) (3.4)\n",
      "Requirement already satisfied: urllib3<1.27,>=1.21.1 in c:\\users\\apurva\\appdata\\local\\packages\\pythonsoftwarefoundation.python.3.10_qbz5n2kfra8p0\\localcache\\local-packages\\python310\\site-packages (from requests<3,>=2.21.0->tensorboard<2.15,>=2.14->tensorflow-intel==2.14.0->tensorflow) (1.26.15)\n",
      "Requirement already satisfied: certifi>=2017.4.17 in c:\\users\\apurva\\appdata\\local\\packages\\pythonsoftwarefoundation.python.3.10_qbz5n2kfra8p0\\localcache\\local-packages\\python310\\site-packages (from requests<3,>=2.21.0->tensorboard<2.15,>=2.14->tensorflow-intel==2.14.0->tensorflow) (2022.12.7)\n",
      "Requirement already satisfied: MarkupSafe>=2.1.1 in c:\\users\\apurva\\appdata\\local\\packages\\pythonsoftwarefoundation.python.3.10_qbz5n2kfra8p0\\localcache\\local-packages\\python310\\site-packages (from werkzeug>=1.0.1->tensorboard<2.15,>=2.14->tensorflow-intel==2.14.0->tensorflow) (2.1.2)\n",
      "Requirement already satisfied: pyasn1<0.6.0,>=0.4.6 in c:\\users\\apurva\\appdata\\local\\packages\\pythonsoftwarefoundation.python.3.10_qbz5n2kfra8p0\\localcache\\local-packages\\python310\\site-packages (from pyasn1-modules>=0.2.1->google-auth<3,>=1.6.3->tensorboard<2.15,>=2.14->tensorflow-intel==2.14.0->tensorflow) (0.5.0)\n",
      "Requirement already satisfied: oauthlib>=3.0.0 in c:\\users\\apurva\\appdata\\local\\packages\\pythonsoftwarefoundation.python.3.10_qbz5n2kfra8p0\\localcache\\local-packages\\python310\\site-packages (from requests-oauthlib>=0.7.0->google-auth-oauthlib<1.1,>=0.5->tensorboard<2.15,>=2.14->tensorflow-intel==2.14.0->tensorflow) (3.2.2)\n",
      "Note: you may need to restart the kernel to use updated packages.\n"
     ]
    },
    {
     "name": "stderr",
     "output_type": "stream",
     "text": [
      "\n",
      "[notice] A new release of pip is available: 23.1 -> 23.2.1\n",
      "[notice] To update, run: C:\\Users\\Apurva\\AppData\\Local\\Microsoft\\WindowsApps\\PythonSoftwareFoundation.Python.3.10_qbz5n2kfra8p0\\python.exe -m pip install --upgrade pip\n"
     ]
    }
   ],
   "source": [
    "pip install numpy pandas scikit-learn xgboost tensorflow lightgbm"
   ]
  },
  {
   "cell_type": "code",
   "execution_count": 2,
   "metadata": {},
   "outputs": [],
   "source": [
    "import numpy as np\n",
    "import pandas as pd\n",
    "from sklearn.model_selection import TimeSeriesSplit\n",
    "from sklearn.metrics import mean_squared_error\n",
    "from sklearn.ensemble import RandomForestRegressor\n",
    "from xgboost import XGBRegressor\n",
    "from lightgbm import LGBMRegressor\n",
    "from tensorflow import keras\n",
    "from keras.models import Sequential\n",
    "from keras.layers import LSTM, SimpleRNN, GRU, Dense\n",
    "from sklearn.preprocessing import StandardScaler\n",
    "import matplotlib.pyplot as plt\n"
   ]
  },
  {
   "cell_type": "code",
   "execution_count": 3,
   "metadata": {},
   "outputs": [],
   "source": [
    "# Load your dataset\n",
    "data = pd.read_csv('merged_file.csv')"
   ]
  },
  {
   "cell_type": "code",
   "execution_count": 4,
   "metadata": {},
   "outputs": [],
   "source": [
    "data['date'] = pd.to_datetime(data['date'])\n",
    "data.set_index('date', inplace=True)"
   ]
  },
  {
   "cell_type": "code",
   "execution_count": 5,
   "metadata": {},
   "outputs": [
    {
     "name": "stdout",
     "output_type": "stream",
     "text": [
      "Total NaN values: 151336\n"
     ]
    }
   ],
   "source": [
    "# Check for remaining NaN values\n",
    "nan_count = data.isna().sum().sum()\n",
    "print(f\"Total NaN values: {nan_count}\")"
   ]
  },
  {
   "cell_type": "code",
   "execution_count": 6,
   "metadata": {},
   "outputs": [],
   "source": [
    "data.fillna(method='bfill', inplace=True)"
   ]
  },
  {
   "cell_type": "code",
   "execution_count": 7,
   "metadata": {},
   "outputs": [
    {
     "name": "stdout",
     "output_type": "stream",
     "text": [
      "Total NaN values: 0\n"
     ]
    }
   ],
   "source": [
    "# Check for remaining NaN values\n",
    "nan_count = data.isna().sum().sum()\n",
    "print(f\"Total NaN values: {nan_count}\")"
   ]
  },
  {
   "cell_type": "code",
   "execution_count": 8,
   "metadata": {},
   "outputs": [],
   "source": [
    "# Split the dataset using fixed split\n",
    "train_size = int(len(data) * 0.8)\n",
    "train_data, test_data = data[:train_size], data[train_size:]"
   ]
  },
  {
   "cell_type": "code",
   "execution_count": 9,
   "metadata": {},
   "outputs": [],
   "source": [
    "target_columns = ['Miscellaneous electric load for the South Wing', 'Miscellaneous electric load for the North Wing', 'Lighting load for the South Wing', 'Heating Ventilation and Air Conditioning load for the South Wing', 'Heating Ventilation and Air Conditioning load for the North Wing'] "
   ]
  },
  {
   "cell_type": "code",
   "execution_count": 10,
   "metadata": {},
   "outputs": [],
   "source": [
    "X_train, y_train = train_data.drop(target_columns, axis=1), train_data[target_columns]\n",
    "X_test, y_test = test_data.drop(target_columns, axis=1), test_data[target_columns]"
   ]
  },
  {
   "cell_type": "code",
   "execution_count": 11,
   "metadata": {},
   "outputs": [
    {
     "name": "stdout",
     "output_type": "stream",
     "text": [
      "Epoch 1/50\n",
      "808/808 - 13s - loss: 192.0697 - 13s/epoch - 16ms/step\n",
      "Epoch 2/50\n",
      "808/808 - 14s - loss: 98.2807 - 14s/epoch - 18ms/step\n",
      "Epoch 3/50\n",
      "808/808 - 10s - loss: 82.4361 - 10s/epoch - 12ms/step\n",
      "Epoch 4/50\n",
      "808/808 - 10s - loss: 80.4350 - 10s/epoch - 12ms/step\n",
      "Epoch 5/50\n",
      "808/808 - 10s - loss: 80.5163 - 10s/epoch - 12ms/step\n",
      "Epoch 6/50\n",
      "808/808 - 10s - loss: 80.5006 - 10s/epoch - 12ms/step\n",
      "Epoch 7/50\n",
      "808/808 - 10s - loss: 80.3353 - 10s/epoch - 12ms/step\n",
      "Epoch 8/50\n",
      "808/808 - 10s - loss: 80.1484 - 10s/epoch - 12ms/step\n",
      "Epoch 9/50\n",
      "808/808 - 10s - loss: 80.1105 - 10s/epoch - 12ms/step\n",
      "Epoch 10/50\n",
      "808/808 - 10s - loss: 80.0724 - 10s/epoch - 12ms/step\n",
      "Epoch 11/50\n",
      "808/808 - 10s - loss: 80.0324 - 10s/epoch - 12ms/step\n",
      "Epoch 12/50\n",
      "808/808 - 14s - loss: 79.9958 - 14s/epoch - 18ms/step\n",
      "Epoch 13/50\n",
      "808/808 - 10s - loss: 79.9418 - 10s/epoch - 13ms/step\n",
      "Epoch 14/50\n",
      "808/808 - 9s - loss: 79.9064 - 9s/epoch - 11ms/step\n",
      "Epoch 15/50\n",
      "808/808 - 19s - loss: 79.9499 - 19s/epoch - 24ms/step\n",
      "Epoch 16/50\n",
      "808/808 - 14s - loss: 79.8534 - 14s/epoch - 18ms/step\n",
      "Epoch 17/50\n",
      "808/808 - 10s - loss: 79.8201 - 10s/epoch - 12ms/step\n",
      "Epoch 18/50\n",
      "808/808 - 10s - loss: 79.7849 - 10s/epoch - 12ms/step\n",
      "Epoch 19/50\n",
      "808/808 - 19s - loss: 79.7747 - 19s/epoch - 24ms/step\n",
      "Epoch 20/50\n",
      "808/808 - 10s - loss: 79.7452 - 10s/epoch - 12ms/step\n",
      "Epoch 21/50\n",
      "808/808 - 12s - loss: 80.4113 - 12s/epoch - 14ms/step\n",
      "Epoch 22/50\n",
      "808/808 - 13s - loss: 80.5025 - 13s/epoch - 16ms/step\n",
      "Epoch 23/50\n",
      "808/808 - 10s - loss: 80.5021 - 10s/epoch - 12ms/step\n",
      "Epoch 24/50\n",
      "808/808 - 11s - loss: 80.4996 - 11s/epoch - 14ms/step\n",
      "Epoch 25/50\n",
      "808/808 - 11s - loss: 80.4988 - 11s/epoch - 14ms/step\n",
      "Epoch 26/50\n",
      "808/808 - 10s - loss: 80.4970 - 10s/epoch - 12ms/step\n",
      "Epoch 27/50\n",
      "808/808 - 13s - loss: 80.4954 - 13s/epoch - 16ms/step\n",
      "Epoch 28/50\n",
      "808/808 - 18s - loss: 80.4929 - 18s/epoch - 22ms/step\n",
      "Epoch 29/50\n",
      "808/808 - 18s - loss: 80.4887 - 18s/epoch - 23ms/step\n",
      "Epoch 30/50\n",
      "808/808 - 10s - loss: 80.4874 - 10s/epoch - 13ms/step\n",
      "Epoch 31/50\n",
      "808/808 - 11s - loss: 80.4827 - 11s/epoch - 13ms/step\n",
      "Epoch 32/50\n",
      "808/808 - 15s - loss: 80.4816 - 15s/epoch - 19ms/step\n",
      "Epoch 33/50\n",
      "808/808 - 10s - loss: 80.4812 - 10s/epoch - 13ms/step\n",
      "Epoch 34/50\n",
      "808/808 - 10s - loss: 80.4794 - 10s/epoch - 13ms/step\n",
      "Epoch 35/50\n",
      "808/808 - 11s - loss: 80.4765 - 11s/epoch - 13ms/step\n",
      "Epoch 36/50\n",
      "808/808 - 10s - loss: 80.4756 - 10s/epoch - 12ms/step\n",
      "Epoch 37/50\n",
      "808/808 - 13s - loss: 80.4688 - 13s/epoch - 16ms/step\n",
      "Epoch 38/50\n",
      "808/808 - 10s - loss: 80.4715 - 10s/epoch - 13ms/step\n",
      "Epoch 39/50\n",
      "808/808 - 12s - loss: 80.4706 - 12s/epoch - 15ms/step\n",
      "Epoch 40/50\n",
      "808/808 - 10s - loss: 80.4654 - 10s/epoch - 13ms/step\n",
      "Epoch 41/50\n",
      "808/808 - 18s - loss: 80.4659 - 18s/epoch - 22ms/step\n",
      "Epoch 42/50\n",
      "808/808 - 10s - loss: 80.4642 - 10s/epoch - 13ms/step\n",
      "Epoch 43/50\n",
      "808/808 - 24s - loss: 80.4617 - 24s/epoch - 30ms/step\n",
      "Epoch 44/50\n",
      "808/808 - 10s - loss: 80.4597 - 10s/epoch - 13ms/step\n",
      "Epoch 45/50\n",
      "808/808 - 16s - loss: 80.4591 - 16s/epoch - 19ms/step\n",
      "Epoch 46/50\n",
      "808/808 - 10s - loss: 80.4548 - 10s/epoch - 13ms/step\n",
      "Epoch 47/50\n",
      "808/808 - 11s - loss: 80.4551 - 11s/epoch - 13ms/step\n",
      "Epoch 48/50\n",
      "808/808 - 15s - loss: 80.4507 - 15s/epoch - 19ms/step\n",
      "Epoch 49/50\n",
      "808/808 - 11s - loss: 80.4524 - 11s/epoch - 13ms/step\n",
      "Epoch 50/50\n",
      "808/808 - 16s - loss: 80.4464 - 16s/epoch - 19ms/step\n",
      "404/404 [==============================] - 2s 4ms/step\n",
      "LSTM RMSE: 8.279691093463583\n"
     ]
    }
   ],
   "source": [
    "# Reshape the data for LSTM (assuming a time window of 30 time steps)\n",
    "time_steps = 30\n",
    "X_train_lstm = np.array([X_train.values[i:i + time_steps] for i in range(len(X_train) - time_steps)])\n",
    "y_train_lstm = y_train.iloc[time_steps:]\n",
    "X_test_lstm = np.array([X_test.values[i:i + time_steps] for i in range(len(X_test) - time_steps)])\n",
    "y_test_lstm = y_test.iloc[time_steps:]\n",
    "\n",
    "lstm_model = Sequential()\n",
    "lstm_model.add(LSTM(50, input_shape=(time_steps, X_train_lstm.shape[2])))\n",
    "lstm_model.add(Dense(len(target_columns)))\n",
    "lstm_model.compile(loss='mean_squared_error', optimizer='adam')\n",
    "lstm_model.fit(X_train_lstm, y_train_lstm, epochs=50, batch_size=64, verbose=2)\n",
    "lstm_predictions = lstm_model.predict(X_test_lstm)\n",
    "lstm_rmse = mean_squared_error(y_test_lstm, lstm_predictions, squared=False)\n",
    "print(f'LSTM RMSE: {lstm_rmse}')\n"
   ]
  },
  {
   "cell_type": "code",
   "execution_count": 15,
   "metadata": {},
   "outputs": [
    {
     "name": "stderr",
     "output_type": "stream",
     "text": [
      "WARNING:absl:`lr` is deprecated in Keras optimizer, please use `learning_rate` or use the legacy optimizer, e.g.,tf.keras.optimizers.legacy.Adam.\n"
     ]
    },
    {
     "name": "stdout",
     "output_type": "stream",
     "text": [
      "Epoch 1/50\n",
      "808/808 - 12s - loss: 176.7911 - 12s/epoch - 14ms/step\n",
      "Epoch 2/50\n",
      "808/808 - 12s - loss: 94.0856 - 12s/epoch - 15ms/step\n",
      "Epoch 3/50\n",
      "808/808 - 13s - loss: 80.7668 - 13s/epoch - 17ms/step\n",
      "Epoch 4/50\n",
      "808/808 - 14s - loss: 79.6768 - 14s/epoch - 17ms/step\n",
      "Epoch 5/50\n",
      "808/808 - 14s - loss: 79.5834 - 14s/epoch - 18ms/step\n",
      "Epoch 6/50\n",
      "808/808 - 14s - loss: 79.5086 - 14s/epoch - 17ms/step\n",
      "Epoch 7/50\n",
      "808/808 - 13s - loss: 79.4249 - 13s/epoch - 16ms/step\n",
      "Epoch 8/50\n",
      "808/808 - 13s - loss: 79.3349 - 13s/epoch - 16ms/step\n",
      "Epoch 9/50\n",
      "808/808 - 14s - loss: 79.2323 - 14s/epoch - 17ms/step\n",
      "Epoch 10/50\n",
      "808/808 - 14s - loss: 79.1359 - 14s/epoch - 17ms/step\n",
      "Epoch 11/50\n",
      "808/808 - 13s - loss: 79.0513 - 13s/epoch - 16ms/step\n",
      "Epoch 12/50\n",
      "808/808 - 13s - loss: 78.9703 - 13s/epoch - 16ms/step\n",
      "Epoch 13/50\n",
      "808/808 - 13s - loss: 78.9007 - 13s/epoch - 17ms/step\n",
      "Epoch 14/50\n",
      "808/808 - 13s - loss: 78.8337 - 13s/epoch - 16ms/step\n",
      "Epoch 15/50\n",
      "808/808 - 14s - loss: 78.7753 - 14s/epoch - 17ms/step\n",
      "Epoch 16/50\n",
      "808/808 - 19s - loss: 78.7265 - 19s/epoch - 24ms/step\n",
      "Epoch 17/50\n",
      "808/808 - 19s - loss: 78.6782 - 19s/epoch - 24ms/step\n",
      "Epoch 18/50\n",
      "808/808 - 19s - loss: 78.6351 - 19s/epoch - 24ms/step\n",
      "Epoch 19/50\n",
      "808/808 - 19s - loss: 78.5889 - 19s/epoch - 24ms/step\n",
      "Epoch 20/50\n",
      "808/808 - 19s - loss: 78.5679 - 19s/epoch - 24ms/step\n",
      "Epoch 21/50\n",
      "808/808 - 20s - loss: 78.5340 - 20s/epoch - 25ms/step\n",
      "Epoch 22/50\n",
      "808/808 - 31s - loss: 78.5150 - 31s/epoch - 38ms/step\n",
      "Epoch 23/50\n",
      "808/808 - 30s - loss: 78.4806 - 30s/epoch - 37ms/step\n",
      "Epoch 24/50\n",
      "808/808 - 33s - loss: 78.4638 - 33s/epoch - 40ms/step\n",
      "Epoch 25/50\n",
      "808/808 - 31s - loss: 78.4452 - 31s/epoch - 38ms/step\n",
      "Epoch 26/50\n",
      "808/808 - 19s - loss: 78.4260 - 19s/epoch - 24ms/step\n",
      "Epoch 27/50\n",
      "808/808 - 19s - loss: 78.4097 - 19s/epoch - 24ms/step\n",
      "Epoch 28/50\n",
      "808/808 - 19s - loss: 78.3970 - 19s/epoch - 24ms/step\n",
      "Epoch 29/50\n",
      "808/808 - 19s - loss: 78.3875 - 19s/epoch - 24ms/step\n",
      "Epoch 30/50\n",
      "808/808 - 19s - loss: 78.3723 - 19s/epoch - 24ms/step\n",
      "Epoch 31/50\n",
      "808/808 - 19s - loss: 78.3632 - 19s/epoch - 24ms/step\n",
      "Epoch 32/50\n",
      "808/808 - 19s - loss: 78.3529 - 19s/epoch - 23ms/step\n",
      "Epoch 33/50\n",
      "808/808 - 19s - loss: 78.6210 - 19s/epoch - 24ms/step\n",
      "Epoch 34/50\n",
      "808/808 - 20s - loss: 79.0970 - 20s/epoch - 24ms/step\n",
      "Epoch 35/50\n",
      "808/808 - 19s - loss: 79.0539 - 19s/epoch - 24ms/step\n",
      "Epoch 36/50\n",
      "808/808 - 19s - loss: 79.0144 - 19s/epoch - 24ms/step\n",
      "Epoch 37/50\n",
      "808/808 - 19s - loss: 78.9681 - 19s/epoch - 24ms/step\n",
      "Epoch 38/50\n",
      "808/808 - 19s - loss: 78.9341 - 19s/epoch - 24ms/step\n",
      "Epoch 39/50\n",
      "808/808 - 19s - loss: 78.8973 - 19s/epoch - 24ms/step\n",
      "Epoch 40/50\n",
      "808/808 - 19s - loss: 78.8677 - 19s/epoch - 24ms/step\n",
      "Epoch 41/50\n",
      "808/808 - 20s - loss: 78.8382 - 20s/epoch - 24ms/step\n",
      "Epoch 42/50\n",
      "808/808 - 19s - loss: 78.8063 - 19s/epoch - 24ms/step\n",
      "Epoch 43/50\n",
      "808/808 - 19s - loss: 78.7791 - 19s/epoch - 24ms/step\n",
      "Epoch 44/50\n",
      "808/808 - 19s - loss: 78.7481 - 19s/epoch - 24ms/step\n",
      "Epoch 45/50\n",
      "808/808 - 19s - loss: 78.7245 - 19s/epoch - 24ms/step\n",
      "Epoch 46/50\n",
      "808/808 - 20s - loss: 78.6984 - 20s/epoch - 24ms/step\n",
      "Epoch 47/50\n",
      "808/808 - 19s - loss: 78.6767 - 19s/epoch - 24ms/step\n",
      "Epoch 48/50\n",
      "808/808 - 19s - loss: 78.6533 - 19s/epoch - 24ms/step\n",
      "Epoch 49/50\n",
      "808/808 - 19s - loss: 78.6362 - 19s/epoch - 24ms/step\n",
      "Epoch 50/50\n",
      "808/808 - 20s - loss: 78.6100 - 20s/epoch - 25ms/step\n",
      "404/404 [==============================] - 3s 7ms/step\n",
      "LSTM RMSE: 8.325252333495602\n"
     ]
    }
   ],
   "source": [
    "from keras.optimizers import Adam\n",
    "\n",
    "# Reshape the data for LSTM (assuming a time window of 30 time steps)\n",
    "time_steps = 30\n",
    "X_train_lstm = np.array([X_train.values[i:i + time_steps] for i in range(len(X_train) - time_steps)])\n",
    "y_train_lstm = y_train.iloc[time_steps:]\n",
    "X_test_lstm = np.array([X_test.values[i:i + time_steps] for i in range(len(X_test) - time_steps)])\n",
    "y_test_lstm = y_test.iloc[time_steps:]\n",
    "\n",
    "lstm_model = Sequential()\n",
    "lstm_model.add(LSTM(50, input_shape=(time_steps, X_train_lstm.shape[2])))  # Corrected line\n",
    "lstm_model.add(Dense(len(target_columns)))\n",
    "\n",
    "# Define the custom optimizer with a lower learning rate (e.g., 0.001)\n",
    "custom_optimizer = Adam(lr=0.001)\n",
    "lstm_model.compile(loss='mean_squared_error', optimizer=custom_optimizer)\n",
    "\n",
    "lstm_model.fit(X_train_lstm, y_train_lstm, epochs=50, batch_size=64, verbose=2)\n",
    "lstm_predictions = lstm_model.predict(X_test_lstm)\n",
    "lstm_rmse = mean_squared_error(y_test_lstm, lstm_predictions, squared=False)\n",
    "print(f'LSTM RMSE: {lstm_rmse}')\n"
   ]
  },
  {
   "cell_type": "code",
   "execution_count": null,
   "metadata": {},
   "outputs": [],
   "source": []
  }
 ],
 "metadata": {
  "kernelspec": {
   "display_name": "Python 3",
   "language": "python",
   "name": "python3"
  },
  "language_info": {
   "codemirror_mode": {
    "name": "ipython",
    "version": 3
   },
   "file_extension": ".py",
   "mimetype": "text/x-python",
   "name": "python",
   "nbconvert_exporter": "python",
   "pygments_lexer": "ipython3",
   "version": "3.10.11"
  }
 },
 "nbformat": 4,
 "nbformat_minor": 2
}
