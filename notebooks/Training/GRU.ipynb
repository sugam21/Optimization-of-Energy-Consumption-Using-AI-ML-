{
 "cells": [
  {
   "cell_type": "code",
   "execution_count": 42,
   "metadata": {},
   "outputs": [
    {
     "ename": "ModuleNotFoundError",
     "evalue": "No module named 'tensorflow.keras.wrappers'",
     "output_type": "error",
     "traceback": [
      "\u001b[1;31m---------------------------------------------------------------------------\u001b[0m",
      "\u001b[1;31mModuleNotFoundError\u001b[0m                       Traceback (most recent call last)",
      "\u001b[1;32md:\\AIML Symbiosis\\DL\\DL_Project\\doi_10.7941_D1N33Q__v6\\Building_59\\All_Files\\GRU.ipynb Cell 1\u001b[0m line \u001b[0;36m1\n\u001b[0;32m      <a href='vscode-notebook-cell:/d%3A/AIML%20Symbiosis/DL/DL_Project/doi_10.7941_D1N33Q__v6/Building_59/All_Files/GRU.ipynb#W0sZmlsZQ%3D%3D?line=7'>8</a>\u001b[0m \u001b[39mfrom\u001b[39;00m \u001b[39msklearn\u001b[39;00m\u001b[39m.\u001b[39;00m\u001b[39mmetrics\u001b[39;00m \u001b[39mimport\u001b[39;00m mean_squared_error\n\u001b[0;32m      <a href='vscode-notebook-cell:/d%3A/AIML%20Symbiosis/DL/DL_Project/doi_10.7941_D1N33Q__v6/Building_59/All_Files/GRU.ipynb#W0sZmlsZQ%3D%3D?line=8'>9</a>\u001b[0m \u001b[39mfrom\u001b[39;00m \u001b[39msklearn\u001b[39;00m\u001b[39m.\u001b[39;00m\u001b[39mmodel_selection\u001b[39;00m \u001b[39mimport\u001b[39;00m train_test_split\n\u001b[1;32m---> <a href='vscode-notebook-cell:/d%3A/AIML%20Symbiosis/DL/DL_Project/doi_10.7941_D1N33Q__v6/Building_59/All_Files/GRU.ipynb#W0sZmlsZQ%3D%3D?line=9'>10</a>\u001b[0m \u001b[39mfrom\u001b[39;00m \u001b[39mtensorflow\u001b[39;00m\u001b[39m.\u001b[39;00m\u001b[39mkeras\u001b[39;00m\u001b[39m.\u001b[39;00m\u001b[39mwrappers\u001b[39;00m\u001b[39m.\u001b[39;00m\u001b[39mscikit_learn\u001b[39;00m \u001b[39mimport\u001b[39;00m KerasRegressor\n",
      "\u001b[1;31mModuleNotFoundError\u001b[0m: No module named 'tensorflow.keras.wrappers'"
     ]
    }
   ],
   "source": [
    "import pandas as pd\n",
    "import numpy as np\n",
    "import matplotlib.pyplot as plt\n",
    "import keras\n",
    "from keras.models import Sequential\n",
    "from keras.layers import GRU, Dense\n",
    "from keras.callbacks import EarlyStopping\n",
    "from sklearn.metrics import mean_squared_error\n",
    "from sklearn.model_selection import train_test_split\n",
    "from tensorflow.keras.wrappers.scikit_learn import KerasRegressor"
   ]
  },
  {
   "cell_type": "code",
   "execution_count": 32,
   "metadata": {},
   "outputs": [],
   "source": [
    "# Load your dataset\n",
    "data = pd.read_csv('merged_file.csv')"
   ]
  },
  {
   "cell_type": "code",
   "execution_count": 33,
   "metadata": {},
   "outputs": [],
   "source": [
    "# Set the date column as the index\n",
    "data['date'] = pd.to_datetime(data['date'])\n",
    "data.set_index('date', inplace=True)"
   ]
  },
  {
   "cell_type": "code",
   "execution_count": 34,
   "metadata": {},
   "outputs": [],
   "source": [
    "# Fill NaN values with forward fill\n",
    "data.fillna(method='bfill', inplace=True)"
   ]
  },
  {
   "cell_type": "code",
   "execution_count": 35,
   "metadata": {},
   "outputs": [
    {
     "name": "stdout",
     "output_type": "stream",
     "text": [
      "Number of NaN values: 0\n"
     ]
    }
   ],
   "source": [
    "# Check for NaN values\n",
    "print(\"Number of NaN values:\", data.isnull().sum().sum())"
   ]
  },
  {
   "cell_type": "code",
   "execution_count": 36,
   "metadata": {},
   "outputs": [],
   "source": [
    "# Split the data into features (X) and target (y)\n",
    "X = data.drop(['Miscellaneous electric load for the South Wing', 'Miscellaneous electric load for the North Wing',\n",
    "               'Lighting load for the South Wing', 'Heating Ventilation and Air Conditioning load for the South Wing',\n",
    "               'Heating Ventilation and Air Conditioning load for the North Wing'], axis=1)\n"
   ]
  },
  {
   "cell_type": "code",
   "execution_count": 37,
   "metadata": {},
   "outputs": [],
   "source": [
    "# Define a list of target variables\n",
    "target_columns = ['Miscellaneous electric load for the South Wing', 'Miscellaneous electric load for the North Wing',\n",
    "                   'Lighting load for the South Wing', 'Heating Ventilation and Air Conditioning load for the South Wing',\n",
    "                   'Heating Ventilation and Air Conditioning load for the North Wing']\n"
   ]
  },
  {
   "cell_type": "code",
   "execution_count": 38,
   "metadata": {},
   "outputs": [],
   "source": [
    "# Use a fixed split technique (e.g., train on the first 80% of the data, test on the remaining 20%)\n",
    "train_size = int(0.8 * len(X))\n",
    "X_train, X_test = X[:train_size], X[train_size:]"
   ]
  },
  {
   "cell_type": "code",
   "execution_count": 39,
   "metadata": {},
   "outputs": [],
   "source": [
    "# Initialize an empty dictionary to store GRU models\n",
    "gru_models = {}"
   ]
  },
  {
   "cell_type": "code",
   "execution_count": 10,
   "metadata": {},
   "outputs": [
    {
     "name": "stdout",
     "output_type": "stream",
     "text": [
      "Epoch 1/100\n",
      "1294/1294 [==============================] - 7s 4ms/step - loss: 13562.4824 - val_loss: 374.4373\n",
      "Epoch 2/100\n",
      "1294/1294 [==============================] - 5s 4ms/step - loss: 101.3145 - val_loss: 282.9949\n",
      "Epoch 3/100\n",
      "1294/1294 [==============================] - 5s 4ms/step - loss: 151.6025 - val_loss: 181.1479\n",
      "Epoch 4/100\n",
      "1294/1294 [==============================] - 4s 3ms/step - loss: 37.7207 - val_loss: 171.3436\n",
      "Epoch 5/100\n",
      "1294/1294 [==============================] - 4s 3ms/step - loss: 25.2692 - val_loss: 146.2126\n",
      "Epoch 6/100\n",
      "1294/1294 [==============================] - 4s 3ms/step - loss: 32.4125 - val_loss: 143.4823\n",
      "Epoch 7/100\n",
      "1294/1294 [==============================] - 4s 3ms/step - loss: 36.7786 - val_loss: 328.9314\n",
      "Epoch 8/100\n",
      "1294/1294 [==============================] - 4s 3ms/step - loss: 34.3875 - val_loss: 133.9824\n",
      "Epoch 9/100\n",
      "1294/1294 [==============================] - 5s 4ms/step - loss: 28.0733 - val_loss: 145.1536\n",
      "Epoch 10/100\n",
      "1294/1294 [==============================] - 5s 4ms/step - loss: 27.2561 - val_loss: 138.4158\n",
      "Epoch 11/100\n",
      "1294/1294 [==============================] - 5s 4ms/step - loss: 31.5714 - val_loss: 76.8544\n",
      "Epoch 12/100\n",
      "1294/1294 [==============================] - 5s 4ms/step - loss: 25.6318 - val_loss: 109.8770\n",
      "Epoch 13/100\n",
      "1294/1294 [==============================] - 5s 4ms/step - loss: 23.2579 - val_loss: 110.4823\n",
      "Epoch 14/100\n",
      "1294/1294 [==============================] - 5s 4ms/step - loss: 25.6348 - val_loss: 89.1943\n",
      "Epoch 15/100\n",
      "1294/1294 [==============================] - 5s 4ms/step - loss: 22.5495 - val_loss: 82.9035\n",
      "Epoch 16/100\n",
      "1294/1294 [==============================] - 5s 4ms/step - loss: 22.0216 - val_loss: 92.0658\n",
      "Epoch 17/100\n",
      "1294/1294 [==============================] - 5s 4ms/step - loss: 21.4339 - val_loss: 86.8993\n",
      "Epoch 18/100\n",
      "1294/1294 [==============================] - 5s 4ms/step - loss: 21.5869 - val_loss: 90.2320\n",
      "Epoch 19/100\n",
      "1294/1294 [==============================] - 5s 4ms/step - loss: 19.6467 - val_loss: 100.5797\n",
      "Epoch 20/100\n",
      "1294/1294 [==============================] - 5s 4ms/step - loss: 23.0492 - val_loss: 87.3172\n",
      "Epoch 21/100\n",
      "1294/1294 [==============================] - 5s 4ms/step - loss: 19.2956 - val_loss: 128.9943\n",
      "405/405 [==============================] - 1s 3ms/step\n",
      "GRU RMSE for Miscellaneous electric load for the South Wing: 186.6173041332411\n",
      "Epoch 1/100\n",
      "1294/1294 [==============================] - 7s 4ms/step - loss: 1349.0183 - val_loss: 276.0666\n",
      "Epoch 2/100\n",
      "1294/1294 [==============================] - 5s 4ms/step - loss: 107.7050 - val_loss: 89.5984\n",
      "Epoch 3/100\n",
      "1294/1294 [==============================] - 5s 4ms/step - loss: 334.6924 - val_loss: 124.5522\n",
      "Epoch 4/100\n",
      "1294/1294 [==============================] - 5s 4ms/step - loss: 52.2125 - val_loss: 81.8095\n",
      "Epoch 5/100\n",
      "1294/1294 [==============================] - 5s 4ms/step - loss: 73.8169 - val_loss: 190.6586\n",
      "Epoch 6/100\n",
      "1294/1294 [==============================] - 5s 4ms/step - loss: 82.1398 - val_loss: 63.4759\n",
      "Epoch 7/100\n",
      "1294/1294 [==============================] - 5s 4ms/step - loss: 80.6488 - val_loss: 78.2904\n",
      "Epoch 8/100\n",
      "1294/1294 [==============================] - 5s 4ms/step - loss: 68.9248 - val_loss: 86.5940\n",
      "Epoch 9/100\n",
      "1294/1294 [==============================] - 5s 4ms/step - loss: 67.1669 - val_loss: 76.2073\n",
      "Epoch 10/100\n",
      "1294/1294 [==============================] - 5s 4ms/step - loss: 70.4010 - val_loss: 68.2798\n",
      "Epoch 11/100\n",
      "1294/1294 [==============================] - 5s 4ms/step - loss: 71.3191 - val_loss: 60.5410\n",
      "Epoch 12/100\n",
      "1294/1294 [==============================] - 5s 4ms/step - loss: 63.2791 - val_loss: 80.9116\n",
      "Epoch 13/100\n",
      "1294/1294 [==============================] - 5s 4ms/step - loss: 51.7504 - val_loss: 80.9956\n",
      "Epoch 14/100\n",
      "1294/1294 [==============================] - 4s 3ms/step - loss: 62.9850 - val_loss: 58.8460\n",
      "Epoch 15/100\n",
      "1294/1294 [==============================] - 5s 4ms/step - loss: 55.9240 - val_loss: 50.2967\n",
      "Epoch 16/100\n",
      "1294/1294 [==============================] - 5s 4ms/step - loss: 50.5828 - val_loss: 56.9230\n",
      "Epoch 17/100\n",
      "1294/1294 [==============================] - 5s 4ms/step - loss: 58.2132 - val_loss: 72.3031\n",
      "Epoch 18/100\n",
      "1294/1294 [==============================] - 5s 4ms/step - loss: 53.6775 - val_loss: 119.4041\n",
      "Epoch 19/100\n",
      "1294/1294 [==============================] - 5s 4ms/step - loss: 49.6020 - val_loss: 47.3138\n",
      "Epoch 20/100\n",
      "1294/1294 [==============================] - 5s 4ms/step - loss: 52.6945 - val_loss: 57.0168\n",
      "Epoch 21/100\n",
      "1294/1294 [==============================] - 5s 4ms/step - loss: 48.1684 - val_loss: 49.4555\n",
      "Epoch 22/100\n",
      "1294/1294 [==============================] - 5s 4ms/step - loss: 51.7336 - val_loss: 53.6102\n",
      "Epoch 23/100\n",
      "1294/1294 [==============================] - 5s 4ms/step - loss: 48.2960 - val_loss: 48.7676\n",
      "Epoch 24/100\n",
      "1294/1294 [==============================] - 5s 4ms/step - loss: 47.4536 - val_loss: 133.6341\n",
      "Epoch 25/100\n",
      "1294/1294 [==============================] - 5s 4ms/step - loss: 45.1040 - val_loss: 44.7194\n",
      "Epoch 26/100\n",
      "1294/1294 [==============================] - 5s 4ms/step - loss: 47.0338 - val_loss: 106.5632\n",
      "Epoch 27/100\n",
      "1294/1294 [==============================] - 5s 4ms/step - loss: 42.2411 - val_loss: 51.2555\n",
      "Epoch 28/100\n",
      "1294/1294 [==============================] - 5s 4ms/step - loss: 43.3003 - val_loss: 88.7042\n",
      "Epoch 29/100\n",
      "1294/1294 [==============================] - 5s 4ms/step - loss: 43.0429 - val_loss: 141.6528\n",
      "Epoch 30/100\n",
      "1294/1294 [==============================] - 5s 4ms/step - loss: 43.1023 - val_loss: 46.9964\n",
      "Epoch 31/100\n",
      "1294/1294 [==============================] - 5s 4ms/step - loss: 44.9510 - val_loss: 63.0199\n",
      "Epoch 32/100\n",
      "1294/1294 [==============================] - 5s 4ms/step - loss: 39.2400 - val_loss: 48.1002\n",
      "Epoch 33/100\n",
      "1294/1294 [==============================] - 5s 4ms/step - loss: 42.1283 - val_loss: 50.1370\n",
      "Epoch 34/100\n",
      "1294/1294 [==============================] - 5s 4ms/step - loss: 39.1281 - val_loss: 42.9401\n",
      "Epoch 35/100\n",
      "1294/1294 [==============================] - 5s 4ms/step - loss: 40.2800 - val_loss: 45.7320\n",
      "Epoch 36/100\n",
      "1294/1294 [==============================] - 5s 4ms/step - loss: 39.2778 - val_loss: 57.3584\n",
      "Epoch 37/100\n",
      "1294/1294 [==============================] - 4s 3ms/step - loss: 37.4937 - val_loss: 41.7139\n",
      "Epoch 38/100\n",
      "1294/1294 [==============================] - 5s 4ms/step - loss: 34.3942 - val_loss: 41.6629\n",
      "Epoch 39/100\n",
      "1294/1294 [==============================] - 5s 4ms/step - loss: 37.0450 - val_loss: 41.9064\n",
      "Epoch 40/100\n",
      "1294/1294 [==============================] - 5s 4ms/step - loss: 37.0015 - val_loss: 47.2958\n",
      "Epoch 41/100\n",
      "1294/1294 [==============================] - 5s 4ms/step - loss: 35.8519 - val_loss: 250.2850\n",
      "Epoch 42/100\n",
      "1294/1294 [==============================] - 5s 3ms/step - loss: 37.5602 - val_loss: 37.1184\n",
      "Epoch 43/100\n",
      "1294/1294 [==============================] - 4s 3ms/step - loss: 35.5940 - val_loss: 38.0731\n",
      "Epoch 44/100\n",
      "1294/1294 [==============================] - 5s 4ms/step - loss: 35.7768 - val_loss: 54.8280\n",
      "Epoch 45/100\n",
      "1294/1294 [==============================] - 5s 4ms/step - loss: 34.7525 - val_loss: 37.1186\n",
      "Epoch 46/100\n",
      "1294/1294 [==============================] - 5s 4ms/step - loss: 33.0488 - val_loss: 50.0930\n",
      "Epoch 47/100\n",
      "1294/1294 [==============================] - 5s 4ms/step - loss: 36.1124 - val_loss: 32.4544\n",
      "Epoch 48/100\n",
      "1294/1294 [==============================] - 5s 4ms/step - loss: 33.1369 - val_loss: 34.4203\n",
      "Epoch 49/100\n",
      "1294/1294 [==============================] - 5s 4ms/step - loss: 32.6457 - val_loss: 33.1817\n",
      "Epoch 50/100\n",
      "1294/1294 [==============================] - 5s 4ms/step - loss: 33.0322 - val_loss: 30.6506\n",
      "Epoch 51/100\n",
      "1294/1294 [==============================] - 5s 4ms/step - loss: 29.8588 - val_loss: 52.3842\n",
      "Epoch 52/100\n",
      "1294/1294 [==============================] - 5s 4ms/step - loss: 33.2437 - val_loss: 48.3455\n",
      "Epoch 53/100\n",
      "1294/1294 [==============================] - 5s 4ms/step - loss: 31.6900 - val_loss: 89.8488\n",
      "Epoch 54/100\n",
      "1294/1294 [==============================] - 5s 4ms/step - loss: 33.2891 - val_loss: 34.0061\n",
      "Epoch 55/100\n",
      "1294/1294 [==============================] - 5s 4ms/step - loss: 30.1420 - val_loss: 102.8304\n",
      "Epoch 56/100\n",
      "1294/1294 [==============================] - 5s 4ms/step - loss: 31.2699 - val_loss: 31.9060\n",
      "Epoch 57/100\n",
      "1294/1294 [==============================] - 5s 4ms/step - loss: 32.6765 - val_loss: 27.9794\n",
      "Epoch 58/100\n",
      "1294/1294 [==============================] - 5s 4ms/step - loss: 29.6389 - val_loss: 33.2850\n",
      "Epoch 59/100\n",
      "1294/1294 [==============================] - 4s 3ms/step - loss: 31.0557 - val_loss: 27.3249\n",
      "Epoch 60/100\n",
      "1294/1294 [==============================] - 5s 4ms/step - loss: 29.3945 - val_loss: 26.3244\n",
      "Epoch 61/100\n",
      "1294/1294 [==============================] - 5s 4ms/step - loss: 31.0159 - val_loss: 67.5062\n",
      "Epoch 62/100\n",
      "1294/1294 [==============================] - 5s 4ms/step - loss: 31.1651 - val_loss: 27.8500\n",
      "Epoch 63/100\n",
      "1294/1294 [==============================] - 5s 4ms/step - loss: 29.9517 - val_loss: 31.1965\n",
      "Epoch 64/100\n",
      "1294/1294 [==============================] - 5s 4ms/step - loss: 29.2623 - val_loss: 26.8502\n",
      "Epoch 65/100\n",
      "1294/1294 [==============================] - 5s 4ms/step - loss: 28.1760 - val_loss: 50.8736\n",
      "Epoch 66/100\n",
      "1294/1294 [==============================] - 5s 4ms/step - loss: 29.6091 - val_loss: 26.3874\n",
      "Epoch 67/100\n",
      "1294/1294 [==============================] - 4s 3ms/step - loss: 28.9608 - val_loss: 25.7959\n",
      "Epoch 68/100\n",
      "1294/1294 [==============================] - 4s 3ms/step - loss: 28.7992 - val_loss: 24.7302\n",
      "Epoch 69/100\n",
      "1294/1294 [==============================] - 4s 3ms/step - loss: 27.8599 - val_loss: 37.5784\n",
      "Epoch 70/100\n",
      "1294/1294 [==============================] - 5s 4ms/step - loss: 27.1201 - val_loss: 85.5766\n",
      "Epoch 71/100\n",
      "1294/1294 [==============================] - 5s 3ms/step - loss: 26.9114 - val_loss: 59.8301\n",
      "Epoch 72/100\n",
      "1294/1294 [==============================] - 4s 3ms/step - loss: 27.9076 - val_loss: 29.4554\n",
      "Epoch 73/100\n",
      "1294/1294 [==============================] - 4s 3ms/step - loss: 26.5098 - val_loss: 24.3613\n",
      "Epoch 74/100\n",
      "1294/1294 [==============================] - 5s 4ms/step - loss: 26.4270 - val_loss: 24.1292\n",
      "Epoch 75/100\n",
      "1294/1294 [==============================] - 5s 4ms/step - loss: 26.9344 - val_loss: 23.8762\n",
      "Epoch 76/100\n",
      "1294/1294 [==============================] - 5s 4ms/step - loss: 25.8435 - val_loss: 23.7470\n",
      "Epoch 77/100\n",
      "1294/1294 [==============================] - 5s 4ms/step - loss: 25.9471 - val_loss: 24.8832\n",
      "Epoch 78/100\n",
      "1294/1294 [==============================] - 5s 4ms/step - loss: 26.1962 - val_loss: 26.7133\n",
      "Epoch 79/100\n",
      "1294/1294 [==============================] - 5s 4ms/step - loss: 26.3270 - val_loss: 23.6414\n",
      "Epoch 80/100\n",
      "1294/1294 [==============================] - 5s 4ms/step - loss: 25.8107 - val_loss: 24.2672\n",
      "Epoch 81/100\n",
      "1294/1294 [==============================] - 5s 4ms/step - loss: 24.2406 - val_loss: 26.1166\n",
      "Epoch 82/100\n",
      "1294/1294 [==============================] - 5s 4ms/step - loss: 25.5957 - val_loss: 32.9882\n",
      "Epoch 83/100\n",
      "1294/1294 [==============================] - 5s 4ms/step - loss: 23.8707 - val_loss: 25.5665\n",
      "Epoch 84/100\n",
      "1294/1294 [==============================] - 5s 4ms/step - loss: 24.2728 - val_loss: 23.3117\n",
      "Epoch 85/100\n",
      "1294/1294 [==============================] - 5s 4ms/step - loss: 24.0423 - val_loss: 24.4069\n",
      "Epoch 86/100\n",
      "1294/1294 [==============================] - 5s 4ms/step - loss: 24.2082 - val_loss: 24.1713\n",
      "Epoch 87/100\n",
      "1294/1294 [==============================] - 5s 4ms/step - loss: 23.7334 - val_loss: 26.8101\n",
      "Epoch 88/100\n",
      "1294/1294 [==============================] - 5s 4ms/step - loss: 22.7419 - val_loss: 23.5466\n",
      "Epoch 89/100\n",
      "1294/1294 [==============================] - 5s 4ms/step - loss: 23.3305 - val_loss: 25.4757\n",
      "Epoch 90/100\n",
      "1294/1294 [==============================] - 5s 4ms/step - loss: 22.9404 - val_loss: 23.6253\n",
      "Epoch 91/100\n",
      "1294/1294 [==============================] - 5s 4ms/step - loss: 22.3699 - val_loss: 25.3216\n",
      "Epoch 92/100\n",
      "1294/1294 [==============================] - 5s 4ms/step - loss: 21.7709 - val_loss: 33.0191\n",
      "Epoch 93/100\n",
      "1294/1294 [==============================] - 5s 4ms/step - loss: 22.1551 - val_loss: 25.0330\n",
      "Epoch 94/100\n",
      "1294/1294 [==============================] - 5s 4ms/step - loss: 21.6784 - val_loss: 25.9755\n",
      "405/405 [==============================] - 1s 3ms/step\n",
      "GRU RMSE for Miscellaneous electric load for the North Wing: 13.784317610735663\n",
      "Epoch 1/100\n",
      "1294/1294 [==============================] - 6s 4ms/step - loss: 20333.9844 - val_loss: 705.0884\n",
      "Epoch 2/100\n",
      "1294/1294 [==============================] - 5s 4ms/step - loss: 147.4793 - val_loss: 456.7642\n",
      "Epoch 3/100\n",
      "1294/1294 [==============================] - 5s 4ms/step - loss: 72.8753 - val_loss: 355.0316\n",
      "Epoch 4/100\n",
      "1294/1294 [==============================] - 5s 4ms/step - loss: 55.1012 - val_loss: 252.8005\n",
      "Epoch 5/100\n",
      "1290/1294 [============================>.] - ETA: 0s - loss: 40.8598"
     ]
    }
   ],
   "source": [
    "# Train a GRU model for each target variable\n",
    "for target_column in target_columns:\n",
    "    y_train = data[target_column][:train_size]\n",
    "    y_test = data[target_column][train_size:]\n",
    "\n",
    "    # Reshape the data for GRU input (3D tensor with shape: [samples, time steps, features])\n",
    "    X_train_reshaped = X_train.values.reshape(X_train.shape[0], 1, X_train.shape[1])\n",
    "    X_test_reshaped = X_test.values.reshape(X_test.shape[0], 1, X_test.shape[1])\n",
    "\n",
    "    # Build the GRU model\n",
    "    model = Sequential()\n",
    "    model.add(GRU(50, activation='relu', input_shape=(1, X_train.shape[1])))\n",
    "    model.add(Dense(1))\n",
    "    model.compile(optimizer='adam', loss='mean_squared_error')\n",
    "\n",
    "    # Train the model with early stopping\n",
    "    es = EarlyStopping(monitor='val_loss', patience=10)\n",
    "    model.fit(X_train_reshaped, y_train, epochs=100, validation_split=0.2, callbacks=[es],batch_size=32)\n",
    "\n",
    "    # Make predictions\n",
    "    gru_predictions = model.predict(X_test_reshaped)\n",
    "\n",
    "    # Calculate RMSE for each model\n",
    "    gru_rmse = np.sqrt(mean_squared_error(y_test, gru_predictions))\n",
    "    print(f\"GRU RMSE for {target_column}: {gru_rmse}\")\n",
    "\n",
    "    # Store the trained model\n",
    "    gru_models[target_column] = model"
   ]
  },
  {
   "cell_type": "code",
   "execution_count": 40,
   "metadata": {},
   "outputs": [],
   "source": [
    "# Define a function to create the GRU model\n",
    "def create_gru_model(activation='relu', units=50, optimizer='adam'):\n",
    "    model = Sequential()\n",
    "    model.add(GRU(units, activation=activation, input_shape=(1, X_train.shape[1])))\n",
    "    model.add(Dense(1))\n",
    "    model.compile(optimizer=optimizer, loss='mean_squared_error')\n",
    "    return model"
   ]
  },
  {
   "cell_type": "code",
   "execution_count": 29,
   "metadata": {},
   "outputs": [
    {
     "ename": "ModuleNotFoundError",
     "evalue": "No module named 'tensorflow.keras.wrappers'",
     "output_type": "error",
     "traceback": [
      "\u001b[1;31m---------------------------------------------------------------------------\u001b[0m",
      "\u001b[1;31mModuleNotFoundError\u001b[0m                       Traceback (most recent call last)",
      "\u001b[1;32md:\\AIML Symbiosis\\DL\\DL_Project\\doi_10.7941_D1N33Q__v6\\Building_59\\All_Files\\GRU.ipynb Cell 14\u001b[0m line \u001b[0;36m1\n\u001b[1;32m----> <a href='vscode-notebook-cell:/d%3A/AIML%20Symbiosis/DL/DL_Project/doi_10.7941_D1N33Q__v6/Building_59/All_Files/GRU.ipynb#X35sZmlsZQ%3D%3D?line=0'>1</a>\u001b[0m \u001b[39mfrom\u001b[39;00m \u001b[39mtensorflow\u001b[39;00m\u001b[39m.\u001b[39;00m\u001b[39mkeras\u001b[39;00m\u001b[39m.\u001b[39;00m\u001b[39mwrappers\u001b[39;00m\u001b[39m.\u001b[39;00m\u001b[39mscikit_learn\u001b[39;00m \u001b[39mimport\u001b[39;00m KerasRegressor\n\u001b[0;32m      <a href='vscode-notebook-cell:/d%3A/AIML%20Symbiosis/DL/DL_Project/doi_10.7941_D1N33Q__v6/Building_59/All_Files/GRU.ipynb#X35sZmlsZQ%3D%3D?line=1'>2</a>\u001b[0m \u001b[39mfrom\u001b[39;00m \u001b[39mkeras\u001b[39;00m\u001b[39m.\u001b[39;00m\u001b[39mwrappers\u001b[39;00m\u001b[39m.\u001b[39;00m\u001b[39mscikit_learn\u001b[39;00m \u001b[39mimport\u001b[39;00m KerasRegressor\n",
      "\u001b[1;31mModuleNotFoundError\u001b[0m: No module named 'tensorflow.keras.wrappers'"
     ]
    }
   ],
   "source": [
    "from tensorflow.keras.wrappers.scikit_learn import KerasRegressor\n",
    "from keras.wrappers.scikit_learn import KerasRegressor\n"
   ]
  },
  {
   "cell_type": "code",
   "execution_count": 41,
   "metadata": {},
   "outputs": [
    {
     "ename": "NameError",
     "evalue": "name 'KerasRegressor' is not defined",
     "output_type": "error",
     "traceback": [
      "\u001b[1;31m---------------------------------------------------------------------------\u001b[0m",
      "\u001b[1;31mNameError\u001b[0m                                 Traceback (most recent call last)",
      "\u001b[1;32md:\\AIML Symbiosis\\DL\\DL_Project\\doi_10.7941_D1N33Q__v6\\Building_59\\All_Files\\GRU.ipynb Cell 12\u001b[0m line \u001b[0;36m2\n\u001b[0;32m      <a href='vscode-notebook-cell:/d%3A/AIML%20Symbiosis/DL/DL_Project/doi_10.7941_D1N33Q__v6/Building_59/All_Files/GRU.ipynb#X20sZmlsZQ%3D%3D?line=0'>1</a>\u001b[0m \u001b[39m# Create a KerasRegressor wrapper for GridSearchCV\u001b[39;00m\n\u001b[1;32m----> <a href='vscode-notebook-cell:/d%3A/AIML%20Symbiosis/DL/DL_Project/doi_10.7941_D1N33Q__v6/Building_59/All_Files/GRU.ipynb#X20sZmlsZQ%3D%3D?line=1'>2</a>\u001b[0m gru_regressor \u001b[39m=\u001b[39m KerasRegressor(build_fn\u001b[39m=\u001b[39mcreate_gru_model, verbose\u001b[39m=\u001b[39m\u001b[39m0\u001b[39m)\n",
      "\u001b[1;31mNameError\u001b[0m: name 'KerasRegressor' is not defined"
     ]
    }
   ],
   "source": [
    "# Create a KerasRegressor wrapper for GridSearchCV\n",
    "gru_regressor = KerasRegressor(build_fn=create_gru_model, verbose=0)\n"
   ]
  },
  {
   "cell_type": "code",
   "execution_count": null,
   "metadata": {},
   "outputs": [],
   "source": [
    "# Define hyperparameter grid for grid search\n",
    "param_grid = {\n",
    "    'activation': ['relu', 'tanh'],\n",
    "    'units': [50, 100],\n",
    "    'optimizer': ['adam', 'rmsprop']\n",
    "}\n"
   ]
  },
  {
   "cell_type": "code",
   "execution_count": null,
   "metadata": {},
   "outputs": [],
   "source": [
    "pipeline = Pipeline([\n",
    "    ('scaler', StandardScaler()),  # You can remove this if data is already scaled\n",
    "    ('gru', gru_regressor)\n",
    "])"
   ]
  },
  {
   "cell_type": "code",
   "execution_count": null,
   "metadata": {},
   "outputs": [],
   "source": [
    "# Perform grid search for hyperparameter optimization\n",
    "grid = GridSearchCV(estimator=pipeline, param_grid=param_grid, scoring='neg_mean_squared_error', cv=3)\n",
    "grid_result = grid.fit(X_train.values.reshape(X_train.shape[0], 1, X_train.shape[1]), data['Miscellaneous electric load for the South Wing'][:train_size])\n"
   ]
  },
  {
   "cell_type": "code",
   "execution_count": null,
   "metadata": {},
   "outputs": [],
   "source": [
    "# Get the best model\n",
    "best_model = grid_result.best_estimator_\n",
    "\n",
    "# Train the best model on the entire training set\n",
    "best_model.named_steps['gru'].fit(X_train.values.reshape(X_train.shape[0], 1, X_train.shape[1]), data['Miscellaneous electric load for the South Wing'][:train_size], epochs=100, validation_split=0.2, callbacks=[EarlyStopping(monitor='val_loss', patience=10)], batch_size=32)\n",
    "\n",
    "# Make predictions\n",
    "gru_predictions = best_model.named_steps['gru'].predict(X_test.values.reshape(X_test.shape[0], 1, X_test.shape[1]))\n"
   ]
  },
  {
   "cell_type": "code",
   "execution_count": null,
   "metadata": {},
   "outputs": [],
   "source": [
    "# Calculate RMSE for the best model\n",
    "gru_rmse = np.sqrt(mean_squared_error(data['Miscellaneous electric load for the South Wing'][train_size:], gru_predictions))\n",
    "print(f\"GRU RMSE for Miscellaneous electric load for the South Wing: {gru_rmse}\")\n"
   ]
  },
  {
   "cell_type": "code",
   "execution_count": null,
   "metadata": {},
   "outputs": [],
   "source": [
    "# Store the best model\n",
    "gru_models['Miscellaneous electric load for the South Wing'] = best_model.named_steps['gru']\n"
   ]
  },
  {
   "cell_type": "code",
   "execution_count": null,
   "metadata": {},
   "outputs": [],
   "source": [
    "# Visualize results for the best model\n",
    "plt.figure(figsize=(12, 6))\n",
    "plt.title('GRU Predictions for Miscellaneous electric load for the South Wing')\n",
    "plt.plot(y_test.index, y_test, label='Actual')\n",
    "plt.plot(y_test.index, gru_predictions, label='Predicted')\n",
    "plt.legend()\n",
    "plt.show()"
   ]
  },
  {
   "cell_type": "code",
   "execution_count": 11,
   "metadata": {},
   "outputs": [
    {
     "data": {
      "image/png": "[encoded data removed]",
      "text/plain": [
       "<Figure size 1200x600 with 1 Axes>"
      ]
     },
     "metadata": {},
     "output_type": "display_data"
    }
   ],
   "source": [
    "# Visualize results for one of the models\n",
    "plt.figure(figsize=(12, 6))\n",
    "plt.title('GRU Predictions for Miscellaneous electric load for the South Wing')\n",
    "plt.plot(y_test.index, y_test, label='Actual')\n",
    "plt.plot(y_test.index, gru_predictions, label='Predicted')\n",
    "plt.legend()\n",
    "plt.show()"
   ]
  }
 ],
 "metadata": {
  "kernelspec": {
   "display_name": "Python 3 (ipykernel)",
   "language": "python",
   "name": "python3"
  },
  "language_info": {
   "codemirror_mode": {
    "name": "ipython",
    "version": 3
   },
   "file_extension": ".py",
   "mimetype": "text/x-python",
   "name": "python",
   "nbconvert_exporter": "python",
   "pygments_lexer": "ipython3",
   "version": "3.11.6"
  }
 },
 "nbformat": 4,
 "nbformat_minor": 4
}
